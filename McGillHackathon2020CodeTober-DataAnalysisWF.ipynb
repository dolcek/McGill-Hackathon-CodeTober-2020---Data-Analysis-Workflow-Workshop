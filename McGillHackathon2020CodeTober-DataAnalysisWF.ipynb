{
 "cells": [
  {
   "cell_type": "markdown",
   "metadata": {},
   "source": [
    "# Code-Tober 2020 Workshop: <font color=skyblue>Data Analysis Workflow </font>\n",
    "\n",
    "### October 8th, 2020\n",
    "\n",
    "### Deniz Ölçek"
   ]
  },
  {
   "cell_type": "markdown",
   "metadata": {},
   "source": [
    "This workshop aims to give an overview of the building blocks of data analysis workflow using ***Python Pandas*** module.\n",
    "\n",
    "***Pandas User Guide***: https://pandas.pydata.org/pandas-docs/stable/user_guide/index.html\n",
    "\n",
    "We will be analyzing a combined dataset including global monthly merged ocean-land surface temperature change from NOAA: https://www.ncdc.noaa.gov/noaa-merged-land-ocean-global-surface-temperature-analysis-noaaglobaltemp-v5"
   ]
  },
  {
   "cell_type": "markdown",
   "metadata": {},
   "source": [
    "### <font color=bblue> Elements of Data Analysis Workflow </font> "
   ]
  },
  {
   "cell_type": "code",
   "execution_count": 1,
   "metadata": {},
   "outputs": [],
   "source": [
    "# Importing libraries\n",
    "\n",
    "%matplotlib inline\n",
    "\n",
    "import numpy as np\n",
    "import matplotlib.pyplot as plt\n",
    "\n",
    "import pandas as pd"
   ]
  },
  {
   "cell_type": "markdown",
   "metadata": {},
   "source": [
    "### <font color=skyblue> Loading and reading the data </font>  "
   ]
  },
  {
   "cell_type": "code",
   "execution_count": 2,
   "metadata": {},
   "outputs": [],
   "source": [
    "filePath = 'AvgMonthlyOceanLandTemp_90S90N_082020.csv'\n",
    "\n",
    "NOAA_dataset = pd.read_csv(filePath, delimiter=\"\\t\")"
   ]
  },
  {
   "cell_type": "markdown",
   "metadata": {},
   "source": [
    "To check the categories in the dataset:"
   ]
  },
  {
   "cell_type": "code",
   "execution_count": 3,
   "metadata": {},
   "outputs": [
    {
     "data": {
      "text/plain": [
       "Index(['Year', 'Month', 'Land Δ(T) (C)', 'Ocean Δ(T) (C)',\n",
       "       'Ocean-Land Δ(T) (C)'],\n",
       "      dtype='object')"
      ]
     },
     "execution_count": 3,
     "metadata": {},
     "output_type": "execute_result"
    }
   ],
   "source": [
    "NOAA_dataset.keys()"
   ]
  },
  {
   "cell_type": "markdown",
   "metadata": {},
   "source": [
    "### <font color=skyblue> Listing the data elements  </font> "
   ]
  },
  {
   "cell_type": "code",
   "execution_count": 4,
   "metadata": {},
   "outputs": [
    {
     "data": {
      "text/html": [
       "<div>\n",
       "<style scoped>\n",
       "    .dataframe tbody tr th:only-of-type {\n",
       "        vertical-align: middle;\n",
       "    }\n",
       "\n",
       "    .dataframe tbody tr th {\n",
       "        vertical-align: top;\n",
       "    }\n",
       "\n",
       "    .dataframe thead th {\n",
       "        text-align: right;\n",
       "    }\n",
       "</style>\n",
       "<table border=\"1\" class=\"dataframe\">\n",
       "  <thead>\n",
       "    <tr style=\"text-align: right;\">\n",
       "      <th></th>\n",
       "      <th>Year</th>\n",
       "      <th>Month</th>\n",
       "      <th>Land Δ(T) (C)</th>\n",
       "      <th>Ocean Δ(T) (C)</th>\n",
       "      <th>Ocean-Land Δ(T) (C)</th>\n",
       "    </tr>\n",
       "  </thead>\n",
       "  <tbody>\n",
       "    <tr>\n",
       "      <th>0</th>\n",
       "      <td>1880</td>\n",
       "      <td>1</td>\n",
       "      <td>-0.750855</td>\n",
       "      <td>-0.269550</td>\n",
       "      <td>-0.381889</td>\n",
       "    </tr>\n",
       "    <tr>\n",
       "      <th>1</th>\n",
       "      <td>1880</td>\n",
       "      <td>2</td>\n",
       "      <td>-1.215493</td>\n",
       "      <td>-0.286615</td>\n",
       "      <td>-0.488308</td>\n",
       "    </tr>\n",
       "    <tr>\n",
       "      <th>2</th>\n",
       "      <td>1880</td>\n",
       "      <td>3</td>\n",
       "      <td>-1.313627</td>\n",
       "      <td>-0.210014</td>\n",
       "      <td>-0.456202</td>\n",
       "    </tr>\n",
       "    <tr>\n",
       "      <th>3</th>\n",
       "      <td>1880</td>\n",
       "      <td>4</td>\n",
       "      <td>-0.906708</td>\n",
       "      <td>-0.217540</td>\n",
       "      <td>-0.387541</td>\n",
       "    </tr>\n",
       "    <tr>\n",
       "      <th>4</th>\n",
       "      <td>1880</td>\n",
       "      <td>5</td>\n",
       "      <td>-0.647808</td>\n",
       "      <td>NaN</td>\n",
       "      <td>-0.423262</td>\n",
       "    </tr>\n",
       "    <tr>\n",
       "      <th>...</th>\n",
       "      <td>...</td>\n",
       "      <td>...</td>\n",
       "      <td>...</td>\n",
       "      <td>...</td>\n",
       "      <td>...</td>\n",
       "    </tr>\n",
       "    <tr>\n",
       "      <th>1683</th>\n",
       "      <td>2020</td>\n",
       "      <td>4</td>\n",
       "      <td>1.187285</td>\n",
       "      <td>0.541520</td>\n",
       "      <td>0.715336</td>\n",
       "    </tr>\n",
       "    <tr>\n",
       "      <th>1684</th>\n",
       "      <td>2020</td>\n",
       "      <td>5</td>\n",
       "      <td>1.018085</td>\n",
       "      <td>0.470633</td>\n",
       "      <td>0.619258</td>\n",
       "    </tr>\n",
       "    <tr>\n",
       "      <th>1685</th>\n",
       "      <td>2020</td>\n",
       "      <td>6</td>\n",
       "      <td>0.963959</td>\n",
       "      <td>0.465016</td>\n",
       "      <td>0.600844</td>\n",
       "    </tr>\n",
       "    <tr>\n",
       "      <th>1686</th>\n",
       "      <td>2020</td>\n",
       "      <td>7</td>\n",
       "      <td>0.961946</td>\n",
       "      <td>0.480749</td>\n",
       "      <td>0.612323</td>\n",
       "    </tr>\n",
       "    <tr>\n",
       "      <th>1687</th>\n",
       "      <td>2020</td>\n",
       "      <td>8</td>\n",
       "      <td>0.979774</td>\n",
       "      <td>0.510396</td>\n",
       "      <td>0.638780</td>\n",
       "    </tr>\n",
       "  </tbody>\n",
       "</table>\n",
       "<p>1688 rows × 5 columns</p>\n",
       "</div>"
      ],
      "text/plain": [
       "      Year  Month  Land Δ(T) (C)  Ocean Δ(T) (C)  Ocean-Land Δ(T) (C)\n",
       "0     1880      1      -0.750855       -0.269550            -0.381889\n",
       "1     1880      2      -1.215493       -0.286615            -0.488308\n",
       "2     1880      3      -1.313627       -0.210014            -0.456202\n",
       "3     1880      4      -0.906708       -0.217540            -0.387541\n",
       "4     1880      5      -0.647808             NaN            -0.423262\n",
       "...    ...    ...            ...             ...                  ...\n",
       "1683  2020      4       1.187285        0.541520             0.715336\n",
       "1684  2020      5       1.018085        0.470633             0.619258\n",
       "1685  2020      6       0.963959        0.465016             0.600844\n",
       "1686  2020      7       0.961946        0.480749             0.612323\n",
       "1687  2020      8       0.979774        0.510396             0.638780\n",
       "\n",
       "[1688 rows x 5 columns]"
      ]
     },
     "execution_count": 4,
     "metadata": {},
     "output_type": "execute_result"
    }
   ],
   "source": [
    "NOAA_dataset"
   ]
  },
  {
   "cell_type": "code",
   "execution_count": 5,
   "metadata": {},
   "outputs": [
    {
     "data": {
      "text/html": [
       "<div>\n",
       "<style scoped>\n",
       "    .dataframe tbody tr th:only-of-type {\n",
       "        vertical-align: middle;\n",
       "    }\n",
       "\n",
       "    .dataframe tbody tr th {\n",
       "        vertical-align: top;\n",
       "    }\n",
       "\n",
       "    .dataframe thead th {\n",
       "        text-align: right;\n",
       "    }\n",
       "</style>\n",
       "<table border=\"1\" class=\"dataframe\">\n",
       "  <thead>\n",
       "    <tr style=\"text-align: right;\">\n",
       "      <th></th>\n",
       "      <th>Year</th>\n",
       "      <th>Month</th>\n",
       "      <th>Land Δ(T) (C)</th>\n",
       "      <th>Ocean Δ(T) (C)</th>\n",
       "      <th>Ocean-Land Δ(T) (C)</th>\n",
       "    </tr>\n",
       "  </thead>\n",
       "  <tbody>\n",
       "    <tr>\n",
       "      <th>0</th>\n",
       "      <td>1880</td>\n",
       "      <td>1</td>\n",
       "      <td>-0.750855</td>\n",
       "      <td>-0.269550</td>\n",
       "      <td>-0.381889</td>\n",
       "    </tr>\n",
       "    <tr>\n",
       "      <th>1</th>\n",
       "      <td>1880</td>\n",
       "      <td>2</td>\n",
       "      <td>-1.215493</td>\n",
       "      <td>-0.286615</td>\n",
       "      <td>-0.488308</td>\n",
       "    </tr>\n",
       "    <tr>\n",
       "      <th>2</th>\n",
       "      <td>1880</td>\n",
       "      <td>3</td>\n",
       "      <td>-1.313627</td>\n",
       "      <td>-0.210014</td>\n",
       "      <td>-0.456202</td>\n",
       "    </tr>\n",
       "    <tr>\n",
       "      <th>3</th>\n",
       "      <td>1880</td>\n",
       "      <td>4</td>\n",
       "      <td>-0.906708</td>\n",
       "      <td>-0.217540</td>\n",
       "      <td>-0.387541</td>\n",
       "    </tr>\n",
       "    <tr>\n",
       "      <th>4</th>\n",
       "      <td>1880</td>\n",
       "      <td>5</td>\n",
       "      <td>-0.647808</td>\n",
       "      <td>NaN</td>\n",
       "      <td>-0.423262</td>\n",
       "    </tr>\n",
       "    <tr>\n",
       "      <th>5</th>\n",
       "      <td>1880</td>\n",
       "      <td>6</td>\n",
       "      <td>-0.540352</td>\n",
       "      <td>-0.426008</td>\n",
       "      <td>-0.450535</td>\n",
       "    </tr>\n",
       "    <tr>\n",
       "      <th>6</th>\n",
       "      <td>1880</td>\n",
       "      <td>7</td>\n",
       "      <td>-0.581144</td>\n",
       "      <td>-0.391768</td>\n",
       "      <td>-0.432511</td>\n",
       "    </tr>\n",
       "    <tr>\n",
       "      <th>7</th>\n",
       "      <td>1880</td>\n",
       "      <td>8</td>\n",
       "      <td>-0.551437</td>\n",
       "      <td>-0.315417</td>\n",
       "      <td>-0.368139</td>\n",
       "    </tr>\n",
       "    <tr>\n",
       "      <th>8</th>\n",
       "      <td>1880</td>\n",
       "      <td>9</td>\n",
       "      <td>-0.735647</td>\n",
       "      <td>-0.296275</td>\n",
       "      <td>NaN</td>\n",
       "    </tr>\n",
       "    <tr>\n",
       "      <th>9</th>\n",
       "      <td>1880</td>\n",
       "      <td>10</td>\n",
       "      <td>-0.954795</td>\n",
       "      <td>-0.384309</td>\n",
       "      <td>-0.505425</td>\n",
       "    </tr>\n",
       "  </tbody>\n",
       "</table>\n",
       "</div>"
      ],
      "text/plain": [
       "   Year  Month  Land Δ(T) (C)  Ocean Δ(T) (C)  Ocean-Land Δ(T) (C)\n",
       "0  1880      1      -0.750855       -0.269550            -0.381889\n",
       "1  1880      2      -1.215493       -0.286615            -0.488308\n",
       "2  1880      3      -1.313627       -0.210014            -0.456202\n",
       "3  1880      4      -0.906708       -0.217540            -0.387541\n",
       "4  1880      5      -0.647808             NaN            -0.423262\n",
       "5  1880      6      -0.540352       -0.426008            -0.450535\n",
       "6  1880      7      -0.581144       -0.391768            -0.432511\n",
       "7  1880      8      -0.551437       -0.315417            -0.368139\n",
       "8  1880      9      -0.735647       -0.296275                  NaN\n",
       "9  1880     10      -0.954795       -0.384309            -0.505425"
      ]
     },
     "execution_count": 5,
     "metadata": {},
     "output_type": "execute_result"
    }
   ],
   "source": [
    "# We can display as many ros as we wish. The default of .head() will show us the 5 top rows.\n",
    "NOAA_dataset.head(10)"
   ]
  },
  {
   "cell_type": "code",
   "execution_count": 6,
   "metadata": {},
   "outputs": [
    {
     "data": {
      "text/plain": [
       "Year                     int64\n",
       "Month                    int64\n",
       "Land Δ(T) (C)          float64\n",
       "Ocean Δ(T) (C)         float64\n",
       "Ocean-Land Δ(T) (C)    float64\n",
       "dtype: object"
      ]
     },
     "execution_count": 6,
     "metadata": {},
     "output_type": "execute_result"
    }
   ],
   "source": [
    "# To check the data types\n",
    "NOAA_dataset.dtypes"
   ]
  },
  {
   "cell_type": "code",
   "execution_count": 7,
   "metadata": {},
   "outputs": [
    {
     "data": {
      "text/html": [
       "<div>\n",
       "<style scoped>\n",
       "    .dataframe tbody tr th:only-of-type {\n",
       "        vertical-align: middle;\n",
       "    }\n",
       "\n",
       "    .dataframe tbody tr th {\n",
       "        vertical-align: top;\n",
       "    }\n",
       "\n",
       "    .dataframe thead th {\n",
       "        text-align: right;\n",
       "    }\n",
       "</style>\n",
       "<table border=\"1\" class=\"dataframe\">\n",
       "  <thead>\n",
       "    <tr style=\"text-align: right;\">\n",
       "      <th></th>\n",
       "      <th>Year</th>\n",
       "    </tr>\n",
       "  </thead>\n",
       "  <tbody>\n",
       "    <tr>\n",
       "      <th>0</th>\n",
       "      <td>1880</td>\n",
       "    </tr>\n",
       "  </tbody>\n",
       "</table>\n",
       "</div>"
      ],
      "text/plain": [
       "   Year\n",
       "0  1880"
      ]
     },
     "execution_count": 7,
     "metadata": {},
     "output_type": "execute_result"
    }
   ],
   "source": [
    "# Displaying indiviual columns and rows\n",
    "\n",
    "NOAA_dataset.iloc[[0],[0]] # Selecting single row and column\n",
    "\n",
    "# print(NOAA_dataset.iloc[[0],[0]])"
   ]
  },
  {
   "cell_type": "code",
   "execution_count": 8,
   "metadata": {},
   "outputs": [
    {
     "data": {
      "text/html": [
       "<div>\n",
       "<style scoped>\n",
       "    .dataframe tbody tr th:only-of-type {\n",
       "        vertical-align: middle;\n",
       "    }\n",
       "\n",
       "    .dataframe tbody tr th {\n",
       "        vertical-align: top;\n",
       "    }\n",
       "\n",
       "    .dataframe thead th {\n",
       "        text-align: right;\n",
       "    }\n",
       "</style>\n",
       "<table border=\"1\" class=\"dataframe\">\n",
       "  <thead>\n",
       "    <tr style=\"text-align: right;\">\n",
       "      <th></th>\n",
       "      <th>Year</th>\n",
       "      <th>Month</th>\n",
       "      <th>Land Δ(T) (C)</th>\n",
       "      <th>Ocean Δ(T) (C)</th>\n",
       "      <th>Ocean-Land Δ(T) (C)</th>\n",
       "    </tr>\n",
       "  </thead>\n",
       "  <tbody>\n",
       "    <tr>\n",
       "      <th>0</th>\n",
       "      <td>1880</td>\n",
       "      <td>1</td>\n",
       "      <td>-0.750855</td>\n",
       "      <td>-0.26955</td>\n",
       "      <td>-0.381889</td>\n",
       "    </tr>\n",
       "  </tbody>\n",
       "</table>\n",
       "</div>"
      ],
      "text/plain": [
       "   Year  Month  Land Δ(T) (C)  Ocean Δ(T) (C)  Ocean-Land Δ(T) (C)\n",
       "0  1880      1      -0.750855        -0.26955            -0.381889"
      ]
     },
     "execution_count": 8,
     "metadata": {},
     "output_type": "execute_result"
    }
   ],
   "source": [
    "NOAA_dataset.iloc[[0]] # Selecting a single row"
   ]
  },
  {
   "cell_type": "code",
   "execution_count": 9,
   "metadata": {},
   "outputs": [
    {
     "data": {
      "text/plain": [
       "0     1880\n",
       "1     1880\n",
       "2     1880\n",
       "3     1880\n",
       "4     1880\n",
       "5     1880\n",
       "6     1880\n",
       "7     1880\n",
       "8     1880\n",
       "9     1880\n",
       "10    1880\n",
       "11    1880\n",
       "12    1881\n",
       "13    1881\n",
       "14    1881\n",
       "15    1881\n",
       "16    1881\n",
       "17    1881\n",
       "18    1881\n",
       "19    1881\n",
       "Name: Year, dtype: int64"
      ]
     },
     "execution_count": 9,
     "metadata": {},
     "output_type": "execute_result"
    }
   ],
   "source": [
    "NOAA_dataset['Year'][:].head(20) # Selecting single column"
   ]
  },
  {
   "cell_type": "code",
   "execution_count": 10,
   "metadata": {},
   "outputs": [
    {
     "data": {
      "text/plain": [
       "3    -0.217540\n",
       "4          NaN\n",
       "5    -0.426008\n",
       "6    -0.391768\n",
       "7    -0.315417\n",
       "8    -0.296275\n",
       "9    -0.384309\n",
       "10   -0.334612\n",
       "11   -0.274358\n",
       "12   -0.232162\n",
       "13   -0.241878\n",
       "14   -0.182379\n",
       "15   -0.175446\n",
       "16   -0.244916\n",
       "17   -0.290397\n",
       "18   -0.294874\n",
       "19   -0.342943\n",
       "Name: Ocean Δ(T) (C), dtype: float64"
      ]
     },
     "execution_count": 10,
     "metadata": {},
     "output_type": "execute_result"
    }
   ],
   "source": [
    "NOAA_dataset['Ocean Δ(T) (C)'][3:20]"
   ]
  },
  {
   "cell_type": "markdown",
   "metadata": {},
   "source": [
    "### <font color=skyblue> Data Manipulation  </font> \n",
    "\n",
    "We can change the order of columns:"
   ]
  },
  {
   "cell_type": "code",
   "execution_count": 11,
   "metadata": {},
   "outputs": [
    {
     "data": {
      "text/html": [
       "<div>\n",
       "<style scoped>\n",
       "    .dataframe tbody tr th:only-of-type {\n",
       "        vertical-align: middle;\n",
       "    }\n",
       "\n",
       "    .dataframe tbody tr th {\n",
       "        vertical-align: top;\n",
       "    }\n",
       "\n",
       "    .dataframe thead th {\n",
       "        text-align: right;\n",
       "    }\n",
       "</style>\n",
       "<table border=\"1\" class=\"dataframe\">\n",
       "  <thead>\n",
       "    <tr style=\"text-align: right;\">\n",
       "      <th></th>\n",
       "      <th>Ocean-Land Δ(T) (C)</th>\n",
       "      <th>Year</th>\n",
       "      <th>Month</th>\n",
       "    </tr>\n",
       "  </thead>\n",
       "  <tbody>\n",
       "    <tr>\n",
       "      <th>0</th>\n",
       "      <td>-0.381889</td>\n",
       "      <td>1880</td>\n",
       "      <td>1</td>\n",
       "    </tr>\n",
       "    <tr>\n",
       "      <th>1</th>\n",
       "      <td>-0.488308</td>\n",
       "      <td>1880</td>\n",
       "      <td>2</td>\n",
       "    </tr>\n",
       "    <tr>\n",
       "      <th>2</th>\n",
       "      <td>-0.456202</td>\n",
       "      <td>1880</td>\n",
       "      <td>3</td>\n",
       "    </tr>\n",
       "    <tr>\n",
       "      <th>3</th>\n",
       "      <td>-0.387541</td>\n",
       "      <td>1880</td>\n",
       "      <td>4</td>\n",
       "    </tr>\n",
       "    <tr>\n",
       "      <th>4</th>\n",
       "      <td>-0.423262</td>\n",
       "      <td>1880</td>\n",
       "      <td>5</td>\n",
       "    </tr>\n",
       "    <tr>\n",
       "      <th>...</th>\n",
       "      <td>...</td>\n",
       "      <td>...</td>\n",
       "      <td>...</td>\n",
       "    </tr>\n",
       "    <tr>\n",
       "      <th>1683</th>\n",
       "      <td>0.715336</td>\n",
       "      <td>2020</td>\n",
       "      <td>4</td>\n",
       "    </tr>\n",
       "    <tr>\n",
       "      <th>1684</th>\n",
       "      <td>0.619258</td>\n",
       "      <td>2020</td>\n",
       "      <td>5</td>\n",
       "    </tr>\n",
       "    <tr>\n",
       "      <th>1685</th>\n",
       "      <td>0.600844</td>\n",
       "      <td>2020</td>\n",
       "      <td>6</td>\n",
       "    </tr>\n",
       "    <tr>\n",
       "      <th>1686</th>\n",
       "      <td>0.612323</td>\n",
       "      <td>2020</td>\n",
       "      <td>7</td>\n",
       "    </tr>\n",
       "    <tr>\n",
       "      <th>1687</th>\n",
       "      <td>0.638780</td>\n",
       "      <td>2020</td>\n",
       "      <td>8</td>\n",
       "    </tr>\n",
       "  </tbody>\n",
       "</table>\n",
       "<p>1688 rows × 3 columns</p>\n",
       "</div>"
      ],
      "text/plain": [
       "      Ocean-Land Δ(T) (C)  Year  Month\n",
       "0               -0.381889  1880      1\n",
       "1               -0.488308  1880      2\n",
       "2               -0.456202  1880      3\n",
       "3               -0.387541  1880      4\n",
       "4               -0.423262  1880      5\n",
       "...                   ...   ...    ...\n",
       "1683             0.715336  2020      4\n",
       "1684             0.619258  2020      5\n",
       "1685             0.600844  2020      6\n",
       "1686             0.612323  2020      7\n",
       "1687             0.638780  2020      8\n",
       "\n",
       "[1688 rows x 3 columns]"
      ]
     },
     "execution_count": 11,
     "metadata": {},
     "output_type": "execute_result"
    }
   ],
   "source": [
    "# Restructuring the data frame\n",
    "OceanLand = pd.DataFrame(NOAA_dataset, columns=['Ocean-Land Δ(T) (C)','Year','Month' ])\n",
    "\n",
    "OceanLand"
   ]
  },
  {
   "cell_type": "code",
   "execution_count": 12,
   "metadata": {},
   "outputs": [
    {
     "data": {
      "text/html": [
       "<div>\n",
       "<style scoped>\n",
       "    .dataframe tbody tr th:only-of-type {\n",
       "        vertical-align: middle;\n",
       "    }\n",
       "\n",
       "    .dataframe tbody tr th {\n",
       "        vertical-align: top;\n",
       "    }\n",
       "\n",
       "    .dataframe thead th {\n",
       "        text-align: right;\n",
       "    }\n",
       "</style>\n",
       "<table border=\"1\" class=\"dataframe\">\n",
       "  <thead>\n",
       "    <tr style=\"text-align: right;\">\n",
       "      <th></th>\n",
       "      <th>A</th>\n",
       "      <th>B</th>\n",
       "    </tr>\n",
       "  </thead>\n",
       "  <tbody>\n",
       "    <tr>\n",
       "      <th>0</th>\n",
       "      <td>1</td>\n",
       "      <td>4</td>\n",
       "    </tr>\n",
       "    <tr>\n",
       "      <th>1</th>\n",
       "      <td>8</td>\n",
       "      <td>6</td>\n",
       "    </tr>\n",
       "  </tbody>\n",
       "</table>\n",
       "</div>"
      ],
      "text/plain": [
       "   A  B\n",
       "0  1  4\n",
       "1  8  6"
      ]
     },
     "execution_count": 12,
     "metadata": {},
     "output_type": "execute_result"
    }
   ],
   "source": [
    "# Swapping rows ------------\n",
    "\n",
    "df= pd.DataFrame(data = [[1,4],[8,6]], index=range(2), columns = ['A', 'B'])\n",
    "a, b = df.iloc[0], df.iloc[1]\n",
    "df"
   ]
  },
  {
   "cell_type": "code",
   "execution_count": 13,
   "metadata": {},
   "outputs": [
    {
     "data": {
      "text/html": [
       "<div>\n",
       "<style scoped>\n",
       "    .dataframe tbody tr th:only-of-type {\n",
       "        vertical-align: middle;\n",
       "    }\n",
       "\n",
       "    .dataframe tbody tr th {\n",
       "        vertical-align: top;\n",
       "    }\n",
       "\n",
       "    .dataframe thead th {\n",
       "        text-align: right;\n",
       "    }\n",
       "</style>\n",
       "<table border=\"1\" class=\"dataframe\">\n",
       "  <thead>\n",
       "    <tr style=\"text-align: right;\">\n",
       "      <th></th>\n",
       "      <th>A</th>\n",
       "      <th>B</th>\n",
       "    </tr>\n",
       "  </thead>\n",
       "  <tbody>\n",
       "    <tr>\n",
       "      <th>0</th>\n",
       "      <td>8</td>\n",
       "      <td>6</td>\n",
       "    </tr>\n",
       "    <tr>\n",
       "      <th>1</th>\n",
       "      <td>1</td>\n",
       "      <td>4</td>\n",
       "    </tr>\n",
       "  </tbody>\n",
       "</table>\n",
       "</div>"
      ],
      "text/plain": [
       "   A  B\n",
       "0  8  6\n",
       "1  1  4"
      ]
     },
     "execution_count": 13,
     "metadata": {},
     "output_type": "execute_result"
    }
   ],
   "source": [
    "temp = df.iloc[0].copy()  # copy of df.iloc[0]\n",
    "df.iloc[0] = b\n",
    "df.iloc[1] = temp\n",
    "df"
   ]
  },
  {
   "cell_type": "markdown",
   "metadata": {},
   "source": [
    "We can create ***new columns*** and populate them. \n",
    "\n",
    "Let's rearrange the timestamps merging ***Year*** and ***Month*** together for convenience. We create a new column as follows:"
   ]
  },
  {
   "cell_type": "code",
   "execution_count": 14,
   "metadata": {},
   "outputs": [],
   "source": [
    "NOAA_dataset['Timestamp'] = NOAA_dataset['Year'].map(str) + '-' + NOAA_dataset['Month'].map(str)"
   ]
  },
  {
   "cell_type": "code",
   "execution_count": 15,
   "metadata": {},
   "outputs": [
    {
     "data": {
      "text/html": [
       "<div>\n",
       "<style scoped>\n",
       "    .dataframe tbody tr th:only-of-type {\n",
       "        vertical-align: middle;\n",
       "    }\n",
       "\n",
       "    .dataframe tbody tr th {\n",
       "        vertical-align: top;\n",
       "    }\n",
       "\n",
       "    .dataframe thead th {\n",
       "        text-align: right;\n",
       "    }\n",
       "</style>\n",
       "<table border=\"1\" class=\"dataframe\">\n",
       "  <thead>\n",
       "    <tr style=\"text-align: right;\">\n",
       "      <th></th>\n",
       "      <th>Year</th>\n",
       "      <th>Month</th>\n",
       "      <th>Land Δ(T) (C)</th>\n",
       "      <th>Ocean Δ(T) (C)</th>\n",
       "      <th>Ocean-Land Δ(T) (C)</th>\n",
       "      <th>Timestamp</th>\n",
       "    </tr>\n",
       "  </thead>\n",
       "  <tbody>\n",
       "    <tr>\n",
       "      <th>0</th>\n",
       "      <td>1880</td>\n",
       "      <td>1</td>\n",
       "      <td>-0.750855</td>\n",
       "      <td>-0.269550</td>\n",
       "      <td>-0.381889</td>\n",
       "      <td>1880-1</td>\n",
       "    </tr>\n",
       "    <tr>\n",
       "      <th>1</th>\n",
       "      <td>1880</td>\n",
       "      <td>2</td>\n",
       "      <td>-1.215493</td>\n",
       "      <td>-0.286615</td>\n",
       "      <td>-0.488308</td>\n",
       "      <td>1880-2</td>\n",
       "    </tr>\n",
       "    <tr>\n",
       "      <th>2</th>\n",
       "      <td>1880</td>\n",
       "      <td>3</td>\n",
       "      <td>-1.313627</td>\n",
       "      <td>-0.210014</td>\n",
       "      <td>-0.456202</td>\n",
       "      <td>1880-3</td>\n",
       "    </tr>\n",
       "    <tr>\n",
       "      <th>3</th>\n",
       "      <td>1880</td>\n",
       "      <td>4</td>\n",
       "      <td>-0.906708</td>\n",
       "      <td>-0.217540</td>\n",
       "      <td>-0.387541</td>\n",
       "      <td>1880-4</td>\n",
       "    </tr>\n",
       "    <tr>\n",
       "      <th>4</th>\n",
       "      <td>1880</td>\n",
       "      <td>5</td>\n",
       "      <td>-0.647808</td>\n",
       "      <td>NaN</td>\n",
       "      <td>-0.423262</td>\n",
       "      <td>1880-5</td>\n",
       "    </tr>\n",
       "    <tr>\n",
       "      <th>5</th>\n",
       "      <td>1880</td>\n",
       "      <td>6</td>\n",
       "      <td>-0.540352</td>\n",
       "      <td>-0.426008</td>\n",
       "      <td>-0.450535</td>\n",
       "      <td>1880-6</td>\n",
       "    </tr>\n",
       "    <tr>\n",
       "      <th>6</th>\n",
       "      <td>1880</td>\n",
       "      <td>7</td>\n",
       "      <td>-0.581144</td>\n",
       "      <td>-0.391768</td>\n",
       "      <td>-0.432511</td>\n",
       "      <td>1880-7</td>\n",
       "    </tr>\n",
       "    <tr>\n",
       "      <th>7</th>\n",
       "      <td>1880</td>\n",
       "      <td>8</td>\n",
       "      <td>-0.551437</td>\n",
       "      <td>-0.315417</td>\n",
       "      <td>-0.368139</td>\n",
       "      <td>1880-8</td>\n",
       "    </tr>\n",
       "    <tr>\n",
       "      <th>8</th>\n",
       "      <td>1880</td>\n",
       "      <td>9</td>\n",
       "      <td>-0.735647</td>\n",
       "      <td>-0.296275</td>\n",
       "      <td>NaN</td>\n",
       "      <td>1880-9</td>\n",
       "    </tr>\n",
       "    <tr>\n",
       "      <th>9</th>\n",
       "      <td>1880</td>\n",
       "      <td>10</td>\n",
       "      <td>-0.954795</td>\n",
       "      <td>-0.384309</td>\n",
       "      <td>-0.505425</td>\n",
       "      <td>1880-10</td>\n",
       "    </tr>\n",
       "  </tbody>\n",
       "</table>\n",
       "</div>"
      ],
      "text/plain": [
       "   Year  Month  Land Δ(T) (C)  Ocean Δ(T) (C)  Ocean-Land Δ(T) (C) Timestamp\n",
       "0  1880      1      -0.750855       -0.269550            -0.381889    1880-1\n",
       "1  1880      2      -1.215493       -0.286615            -0.488308    1880-2\n",
       "2  1880      3      -1.313627       -0.210014            -0.456202    1880-3\n",
       "3  1880      4      -0.906708       -0.217540            -0.387541    1880-4\n",
       "4  1880      5      -0.647808             NaN            -0.423262    1880-5\n",
       "5  1880      6      -0.540352       -0.426008            -0.450535    1880-6\n",
       "6  1880      7      -0.581144       -0.391768            -0.432511    1880-7\n",
       "7  1880      8      -0.551437       -0.315417            -0.368139    1880-8\n",
       "8  1880      9      -0.735647       -0.296275                  NaN    1880-9\n",
       "9  1880     10      -0.954795       -0.384309            -0.505425   1880-10"
      ]
     },
     "execution_count": 15,
     "metadata": {},
     "output_type": "execute_result"
    }
   ],
   "source": [
    "NOAA_dataset.head(10)"
   ]
  },
  {
   "cell_type": "markdown",
   "metadata": {},
   "source": [
    "### <font color=skyblue> How to work with NaNs / missing data points </font>  \n",
    "\n",
    "`NaN`= not a number\n",
    "\n",
    "First of all, let's find out how many NaNs there are in the data. We will use a method `isna()` which will return a dataframe of the same size of `NOAA_dataset` with only `True` or `False` values. `True` for when a value is NaN and `False` when the value is not NaN."
   ]
  },
  {
   "cell_type": "code",
   "execution_count": 16,
   "metadata": {},
   "outputs": [
    {
     "data": {
      "text/html": [
       "<div>\n",
       "<style scoped>\n",
       "    .dataframe tbody tr th:only-of-type {\n",
       "        vertical-align: middle;\n",
       "    }\n",
       "\n",
       "    .dataframe tbody tr th {\n",
       "        vertical-align: top;\n",
       "    }\n",
       "\n",
       "    .dataframe thead th {\n",
       "        text-align: right;\n",
       "    }\n",
       "</style>\n",
       "<table border=\"1\" class=\"dataframe\">\n",
       "  <thead>\n",
       "    <tr style=\"text-align: right;\">\n",
       "      <th></th>\n",
       "      <th>Year</th>\n",
       "      <th>Month</th>\n",
       "      <th>Land Δ(T) (C)</th>\n",
       "      <th>Ocean Δ(T) (C)</th>\n",
       "      <th>Ocean-Land Δ(T) (C)</th>\n",
       "      <th>Timestamp</th>\n",
       "    </tr>\n",
       "  </thead>\n",
       "  <tbody>\n",
       "    <tr>\n",
       "      <th>0</th>\n",
       "      <td>False</td>\n",
       "      <td>False</td>\n",
       "      <td>False</td>\n",
       "      <td>False</td>\n",
       "      <td>False</td>\n",
       "      <td>False</td>\n",
       "    </tr>\n",
       "    <tr>\n",
       "      <th>1</th>\n",
       "      <td>False</td>\n",
       "      <td>False</td>\n",
       "      <td>False</td>\n",
       "      <td>False</td>\n",
       "      <td>False</td>\n",
       "      <td>False</td>\n",
       "    </tr>\n",
       "    <tr>\n",
       "      <th>2</th>\n",
       "      <td>False</td>\n",
       "      <td>False</td>\n",
       "      <td>False</td>\n",
       "      <td>False</td>\n",
       "      <td>False</td>\n",
       "      <td>False</td>\n",
       "    </tr>\n",
       "    <tr>\n",
       "      <th>3</th>\n",
       "      <td>False</td>\n",
       "      <td>False</td>\n",
       "      <td>False</td>\n",
       "      <td>False</td>\n",
       "      <td>False</td>\n",
       "      <td>False</td>\n",
       "    </tr>\n",
       "    <tr>\n",
       "      <th>4</th>\n",
       "      <td>False</td>\n",
       "      <td>False</td>\n",
       "      <td>False</td>\n",
       "      <td>True</td>\n",
       "      <td>False</td>\n",
       "      <td>False</td>\n",
       "    </tr>\n",
       "    <tr>\n",
       "      <th>5</th>\n",
       "      <td>False</td>\n",
       "      <td>False</td>\n",
       "      <td>False</td>\n",
       "      <td>False</td>\n",
       "      <td>False</td>\n",
       "      <td>False</td>\n",
       "    </tr>\n",
       "    <tr>\n",
       "      <th>6</th>\n",
       "      <td>False</td>\n",
       "      <td>False</td>\n",
       "      <td>False</td>\n",
       "      <td>False</td>\n",
       "      <td>False</td>\n",
       "      <td>False</td>\n",
       "    </tr>\n",
       "    <tr>\n",
       "      <th>7</th>\n",
       "      <td>False</td>\n",
       "      <td>False</td>\n",
       "      <td>False</td>\n",
       "      <td>False</td>\n",
       "      <td>False</td>\n",
       "      <td>False</td>\n",
       "    </tr>\n",
       "    <tr>\n",
       "      <th>8</th>\n",
       "      <td>False</td>\n",
       "      <td>False</td>\n",
       "      <td>False</td>\n",
       "      <td>False</td>\n",
       "      <td>True</td>\n",
       "      <td>False</td>\n",
       "    </tr>\n",
       "    <tr>\n",
       "      <th>9</th>\n",
       "      <td>False</td>\n",
       "      <td>False</td>\n",
       "      <td>False</td>\n",
       "      <td>False</td>\n",
       "      <td>False</td>\n",
       "      <td>False</td>\n",
       "    </tr>\n",
       "  </tbody>\n",
       "</table>\n",
       "</div>"
      ],
      "text/plain": [
       "    Year  Month  Land Δ(T) (C)  Ocean Δ(T) (C)  Ocean-Land Δ(T) (C)  Timestamp\n",
       "0  False  False          False           False                False      False\n",
       "1  False  False          False           False                False      False\n",
       "2  False  False          False           False                False      False\n",
       "3  False  False          False           False                False      False\n",
       "4  False  False          False            True                False      False\n",
       "5  False  False          False           False                False      False\n",
       "6  False  False          False           False                False      False\n",
       "7  False  False          False           False                False      False\n",
       "8  False  False          False           False                 True      False\n",
       "9  False  False          False           False                False      False"
      ]
     },
     "execution_count": 16,
     "metadata": {},
     "output_type": "execute_result"
    }
   ],
   "source": [
    "NOAA_dataset.isna().head(10)"
   ]
  },
  {
   "cell_type": "code",
   "execution_count": 17,
   "metadata": {},
   "outputs": [
    {
     "data": {
      "text/plain": [
       "Year                   0\n",
       "Month                  0\n",
       "Land Δ(T) (C)          6\n",
       "Ocean Δ(T) (C)         8\n",
       "Ocean-Land Δ(T) (C)    7\n",
       "Timestamp              0\n",
       "dtype: int64"
      ]
     },
     "execution_count": 17,
     "metadata": {},
     "output_type": "execute_result"
    }
   ],
   "source": [
    "NOAA_dataset.isna().sum() # to display the total number of NaNs in each columns"
   ]
  },
  {
   "cell_type": "markdown",
   "metadata": {},
   "source": [
    "### <font color=skyblue> How to deal with missing data </font>   \n",
    "\n",
    "To deal with missing data, we will apply interpolation here. There are different types of interpolation, for simplicity we will stick to the most basic one which is the linear interpolation.\n",
    "\n",
    "Pandas interpolation: https://pandas.pydata.org/pandas-docs/stable/reference/api/pandas.DataFrame.interpolate.html\n",
    "\n",
    "There are also other methods of dealing with missing data which is not within the scope of this workshop."
   ]
  },
  {
   "cell_type": "code",
   "execution_count": 18,
   "metadata": {},
   "outputs": [],
   "source": [
    "OceanLandTempChange_interpolated = NOAA_dataset['Ocean-Land Δ(T) (C)'].interpolate(method ='linear', limit = 1)\n",
    "\n",
    "# limit : Maximum number of consecutive NaNs to fill. Must be greater than 0.\n"
   ]
  },
  {
   "cell_type": "code",
   "execution_count": 19,
   "metadata": {},
   "outputs": [
    {
     "data": {
      "text/plain": [
       "7"
      ]
     },
     "execution_count": 19,
     "metadata": {},
     "output_type": "execute_result"
    }
   ],
   "source": [
    "NOAA_dataset['Ocean-Land Δ(T) (C)'].isna().sum()"
   ]
  },
  {
   "cell_type": "code",
   "execution_count": 20,
   "metadata": {},
   "outputs": [
    {
     "data": {
      "text/plain": [
       "0"
      ]
     },
     "execution_count": 20,
     "metadata": {},
     "output_type": "execute_result"
    }
   ],
   "source": [
    "# Checking the total of Nans in the column\n",
    "OceanLandTempChange_interpolated.isna().sum()"
   ]
  },
  {
   "cell_type": "code",
   "execution_count": 21,
   "metadata": {},
   "outputs": [],
   "source": [
    "#To get rid of all the NaNs and missing values in all the columns\n",
    "NOAA_dataset_interpolated = NOAA_dataset.interpolate(method ='linear', limit = 1)"
   ]
  },
  {
   "cell_type": "code",
   "execution_count": 22,
   "metadata": {},
   "outputs": [
    {
     "data": {
      "text/plain": [
       "Year                   0\n",
       "Month                  0\n",
       "Land Δ(T) (C)          0\n",
       "Ocean Δ(T) (C)         0\n",
       "Ocean-Land Δ(T) (C)    0\n",
       "Timestamp              0\n",
       "dtype: int64"
      ]
     },
     "execution_count": 22,
     "metadata": {},
     "output_type": "execute_result"
    }
   ],
   "source": [
    "NOAA_dataset_interpolated.isna().sum()"
   ]
  },
  {
   "cell_type": "markdown",
   "metadata": {},
   "source": [
    "## <font color=skyblue> Filter </font>    \n",
    "\n",
    "When analyzing timeseries, we can select any portion of the dataframe we want to work on by applying a filter/mask. \n",
    "\n",
    "Let's create a mask by defining the conditions we want. The mask is a dataframe with the same size of `NOAA_dataset` but with only boolean values (`True` or `False`). `True` if the conditions we want is valid and `False` if it is not.\n",
    "\n",
    "Then we will use this mask to select which rows we want from the original dataframe `NOAA_dataset`."
   ]
  },
  {
   "cell_type": "code",
   "execution_count": 23,
   "metadata": {},
   "outputs": [],
   "source": [
    "start_date=\"2001-1\"\n",
    "end_date=\"2020-1\"\n",
    "\n",
    "mask = (NOAA_dataset['Timestamp'] >= start_date)  & (NOAA_dataset['Timestamp'] <= end_date) # boolean array"
   ]
  },
  {
   "cell_type": "markdown",
   "metadata": {},
   "source": [
    "Now we will use this mask column to filter the data we have. We will use a method `.loc[mask]` which will remove the rows from the data that are `False` in the array and leave the ones that are `True`.\n",
    "\n",
    "Then we store the returned dataframe with the new filtered data in `NOAA_dataset_masked`."
   ]
  },
  {
   "cell_type": "code",
   "execution_count": 24,
   "metadata": {},
   "outputs": [],
   "source": [
    "NOAA_dataset_masked=NOAA_dataset_interpolated.loc[mask]"
   ]
  },
  {
   "cell_type": "code",
   "execution_count": 25,
   "metadata": {},
   "outputs": [
    {
     "data": {
      "text/plain": [
       "Index(['Year', 'Month', 'Land Δ(T) (C)', 'Ocean Δ(T) (C)',\n",
       "       'Ocean-Land Δ(T) (C)', 'Timestamp'],\n",
       "      dtype='object')"
      ]
     },
     "execution_count": 25,
     "metadata": {},
     "output_type": "execute_result"
    }
   ],
   "source": [
    "NOAA_dataset_masked.keys()"
   ]
  },
  {
   "cell_type": "code",
   "execution_count": 26,
   "metadata": {},
   "outputs": [
    {
     "data": {
      "text/plain": [
       "Year                   1688\n",
       "Month                  1688\n",
       "Land Δ(T) (C)          1688\n",
       "Ocean Δ(T) (C)         1688\n",
       "Ocean-Land Δ(T) (C)    1688\n",
       "Timestamp              1688\n",
       "dtype: int64"
      ]
     },
     "execution_count": 26,
     "metadata": {},
     "output_type": "execute_result"
    }
   ],
   "source": [
    "NOAA_dataset_interpolated.count()"
   ]
  },
  {
   "cell_type": "code",
   "execution_count": 27,
   "metadata": {},
   "outputs": [
    {
     "data": {
      "text/plain": [
       "Year                   229\n",
       "Month                  229\n",
       "Land Δ(T) (C)          229\n",
       "Ocean Δ(T) (C)         229\n",
       "Ocean-Land Δ(T) (C)    229\n",
       "Timestamp              229\n",
       "dtype: int64"
      ]
     },
     "execution_count": 27,
     "metadata": {},
     "output_type": "execute_result"
    }
   ],
   "source": [
    "NOAA_dataset_masked.count()"
   ]
  },
  {
   "cell_type": "code",
   "execution_count": 28,
   "metadata": {},
   "outputs": [
    {
     "data": {
      "text/html": [
       "<div>\n",
       "<style scoped>\n",
       "    .dataframe tbody tr th:only-of-type {\n",
       "        vertical-align: middle;\n",
       "    }\n",
       "\n",
       "    .dataframe tbody tr th {\n",
       "        vertical-align: top;\n",
       "    }\n",
       "\n",
       "    .dataframe thead th {\n",
       "        text-align: right;\n",
       "    }\n",
       "</style>\n",
       "<table border=\"1\" class=\"dataframe\">\n",
       "  <thead>\n",
       "    <tr style=\"text-align: right;\">\n",
       "      <th></th>\n",
       "      <th>Year</th>\n",
       "      <th>Month</th>\n",
       "      <th>Land Δ(T) (C)</th>\n",
       "      <th>Ocean Δ(T) (C)</th>\n",
       "      <th>Ocean-Land Δ(T) (C)</th>\n",
       "      <th>Timestamp</th>\n",
       "    </tr>\n",
       "  </thead>\n",
       "  <tbody>\n",
       "    <tr>\n",
       "      <th>1452</th>\n",
       "      <td>2001</td>\n",
       "      <td>1</td>\n",
       "      <td>0.344140</td>\n",
       "      <td>0.080783</td>\n",
       "      <td>0.152247</td>\n",
       "      <td>2001-1</td>\n",
       "    </tr>\n",
       "    <tr>\n",
       "      <th>1453</th>\n",
       "      <td>2001</td>\n",
       "      <td>2</td>\n",
       "      <td>0.035493</td>\n",
       "      <td>0.088252</td>\n",
       "      <td>0.073994</td>\n",
       "      <td>2001-2</td>\n",
       "    </tr>\n",
       "    <tr>\n",
       "      <th>1454</th>\n",
       "      <td>2001</td>\n",
       "      <td>3</td>\n",
       "      <td>0.670230</td>\n",
       "      <td>0.149152</td>\n",
       "      <td>0.290445</td>\n",
       "      <td>2001-3</td>\n",
       "    </tr>\n",
       "    <tr>\n",
       "      <th>1455</th>\n",
       "      <td>2001</td>\n",
       "      <td>4</td>\n",
       "      <td>0.509511</td>\n",
       "      <td>0.160217</td>\n",
       "      <td>0.255482</td>\n",
       "      <td>2001-4</td>\n",
       "    </tr>\n",
       "    <tr>\n",
       "      <th>1456</th>\n",
       "      <td>2001</td>\n",
       "      <td>5</td>\n",
       "      <td>0.658417</td>\n",
       "      <td>0.156122</td>\n",
       "      <td>0.293690</td>\n",
       "      <td>2001-5</td>\n",
       "    </tr>\n",
       "    <tr>\n",
       "      <th>...</th>\n",
       "      <td>...</td>\n",
       "      <td>...</td>\n",
       "      <td>...</td>\n",
       "      <td>...</td>\n",
       "      <td>...</td>\n",
       "      <td>...</td>\n",
       "    </tr>\n",
       "    <tr>\n",
       "      <th>1676</th>\n",
       "      <td>2019</td>\n",
       "      <td>9</td>\n",
       "      <td>1.132529</td>\n",
       "      <td>0.478511</td>\n",
       "      <td>0.657061</td>\n",
       "      <td>2019-9</td>\n",
       "    </tr>\n",
       "    <tr>\n",
       "      <th>1677</th>\n",
       "      <td>2019</td>\n",
       "      <td>10</td>\n",
       "      <td>1.204067</td>\n",
       "      <td>0.482757</td>\n",
       "      <td>0.680138</td>\n",
       "      <td>2019-10</td>\n",
       "    </tr>\n",
       "    <tr>\n",
       "      <th>1678</th>\n",
       "      <td>2019</td>\n",
       "      <td>11</td>\n",
       "      <td>1.041750</td>\n",
       "      <td>0.487740</td>\n",
       "      <td>0.638996</td>\n",
       "      <td>2019-11</td>\n",
       "    </tr>\n",
       "    <tr>\n",
       "      <th>1679</th>\n",
       "      <td>2019</td>\n",
       "      <td>12</td>\n",
       "      <td>1.324501</td>\n",
       "      <td>0.494407</td>\n",
       "      <td>0.719744</td>\n",
       "      <td>2019-12</td>\n",
       "    </tr>\n",
       "    <tr>\n",
       "      <th>1680</th>\n",
       "      <td>2020</td>\n",
       "      <td>1</td>\n",
       "      <td>1.678820</td>\n",
       "      <td>0.505374</td>\n",
       "      <td>0.820550</td>\n",
       "      <td>2020-1</td>\n",
       "    </tr>\n",
       "  </tbody>\n",
       "</table>\n",
       "<p>229 rows × 6 columns</p>\n",
       "</div>"
      ],
      "text/plain": [
       "      Year  Month  Land Δ(T) (C)  Ocean Δ(T) (C)  Ocean-Land Δ(T) (C)  \\\n",
       "1452  2001      1       0.344140        0.080783             0.152247   \n",
       "1453  2001      2       0.035493        0.088252             0.073994   \n",
       "1454  2001      3       0.670230        0.149152             0.290445   \n",
       "1455  2001      4       0.509511        0.160217             0.255482   \n",
       "1456  2001      5       0.658417        0.156122             0.293690   \n",
       "...    ...    ...            ...             ...                  ...   \n",
       "1676  2019      9       1.132529        0.478511             0.657061   \n",
       "1677  2019     10       1.204067        0.482757             0.680138   \n",
       "1678  2019     11       1.041750        0.487740             0.638996   \n",
       "1679  2019     12       1.324501        0.494407             0.719744   \n",
       "1680  2020      1       1.678820        0.505374             0.820550   \n",
       "\n",
       "     Timestamp  \n",
       "1452    2001-1  \n",
       "1453    2001-2  \n",
       "1454    2001-3  \n",
       "1455    2001-4  \n",
       "1456    2001-5  \n",
       "...        ...  \n",
       "1676    2019-9  \n",
       "1677   2019-10  \n",
       "1678   2019-11  \n",
       "1679   2019-12  \n",
       "1680    2020-1  \n",
       "\n",
       "[229 rows x 6 columns]"
      ]
     },
     "execution_count": 28,
     "metadata": {},
     "output_type": "execute_result"
    }
   ],
   "source": [
    "NOAA_dataset_masked"
   ]
  },
  {
   "cell_type": "code",
   "execution_count": 29,
   "metadata": {},
   "outputs": [],
   "source": [
    "OceanLandTempChange_masked = OceanLandTempChange_interpolated.loc[mask]\n",
    "# Time_masked = NOAA_dataset['Timestamp'].loc[mask]"
   ]
  },
  {
   "cell_type": "code",
   "execution_count": 30,
   "metadata": {},
   "outputs": [
    {
     "data": {
      "text/plain": [
       "1688"
      ]
     },
     "execution_count": 30,
     "metadata": {},
     "output_type": "execute_result"
    }
   ],
   "source": [
    "OceanLandTempChange_interpolated.count()"
   ]
  },
  {
   "cell_type": "code",
   "execution_count": 31,
   "metadata": {},
   "outputs": [
    {
     "data": {
      "text/plain": [
       "229"
      ]
     },
     "execution_count": 31,
     "metadata": {},
     "output_type": "execute_result"
    }
   ],
   "source": [
    "OceanLandTempChange_masked.count()"
   ]
  },
  {
   "cell_type": "markdown",
   "metadata": {},
   "source": [
    "##  <font color=skyblue> Visualize </font>   "
   ]
  },
  {
   "cell_type": "code",
   "execution_count": 32,
   "metadata": {},
   "outputs": [
    {
     "name": "stderr",
     "output_type": "stream",
     "text": [
      "C:\\Users\\deniz\\anaconda3\\lib\\site-packages\\pandas\\plotting\\_matplotlib\\core.py:969: MatplotlibDeprecationWarning: Support for uppercase single-letter colors is deprecated since Matplotlib 3.1 and will be removed in 3.3; please use lowercase instead.\n",
      "  scatter = ax.scatter(\n"
     ]
    },
    {
     "data": {
      "image/png": "[encoded data removed]",
      "text/plain": [
       "<Figure size 1080x216 with 1 Axes>"
      ]
     },
     "metadata": {
      "needs_background": "light"
     },
     "output_type": "display_data"
    }
   ],
   "source": [
    "##  plot the data with x being dt column and y the average temperature\n",
    "##  Specify the figure size because the default size will make things shrink too much\n",
    "ax=NOAA_dataset.plot(x='Timestamp', y='Ocean-Land Δ(T) (C)', kind='scatter',color='R', xticks=[\"1880-1\",\"2020-1\"], figsize=(15,3))\n",
    "##  add title to the figure and label for x and y\n",
    "plt.title('Average Monthly Land+Ocean Surface Temperature change')\n",
    "plt.xlabel('Year-Month')\n",
    "plt.ylabel('Average Temperature Change (C)')\n",
    "plt.show()"
   ]
  },
  {
   "cell_type": "code",
   "execution_count": 34,
   "metadata": {},
   "outputs": [
    {
     "data": {
      "image/png": "[encoded data removed]",
      "text/plain": [
       "<Figure size 1080x216 with 1 Axes>"
      ]
     },
     "metadata": {
      "needs_background": "light"
     },
     "output_type": "display_data"
    }
   ],
   "source": [
    "NOAA_dataset_masked.plot.scatter(x='Timestamp', y='Ocean-Land Δ(T) (C)', xticks=[start_date,\"2005-1\",\"2010-1\",\"2015-1\", end_date], figsize=(15,3))\n",
    "plt.title('Average Land+Sea Surface Temperature change (2001-2020)')\n",
    "plt.xlabel('Year')\n",
    "plt.ylabel('Average Temperature Change (C)')\n",
    "plt.show()"
   ]
  },
  {
   "cell_type": "code",
   "execution_count": 35,
   "metadata": {},
   "outputs": [
    {
     "data": {
      "text/plain": [
       "0.3997060589519649"
      ]
     },
     "execution_count": 35,
     "metadata": {},
     "output_type": "execute_result"
    }
   ],
   "source": [
    "NOAA_dataset_masked['Ocean-Land Δ(T) (C)'].mean()"
   ]
  },
  {
   "cell_type": "code",
   "execution_count": 36,
   "metadata": {},
   "outputs": [
    {
     "data": {
      "text/plain": [
       "-0.318899"
      ]
     },
     "execution_count": 36,
     "metadata": {},
     "output_type": "execute_result"
    }
   ],
   "source": [
    "NOAA_dataset['Ocean-Land Δ(T) (C)'].median()"
   ]
  },
  {
   "cell_type": "markdown",
   "metadata": {},
   "source": [
    "## <font color=bblue> Let's practice! </font>  \n",
    "\n",
    "### (1) Display the entire 60th row in `NOAA_dataset`."
   ]
  },
  {
   "cell_type": "code",
   "execution_count": null,
   "metadata": {},
   "outputs": [],
   "source": []
  },
  {
   "cell_type": "markdown",
   "metadata": {},
   "source": [
    "### (2) Display all the values between 1000th and 1025th rows in the `Land Δ(T) (C)` column."
   ]
  },
  {
   "cell_type": "code",
   "execution_count": null,
   "metadata": {},
   "outputs": [],
   "source": []
  },
  {
   "cell_type": "markdown",
   "metadata": {},
   "source": [
    "### (3) Display the values in the first 5 rows of the 2nd and 3rd columns of `NOAA_dataset`."
   ]
  },
  {
   "cell_type": "code",
   "execution_count": null,
   "metadata": {},
   "outputs": [],
   "source": []
  },
  {
   "cell_type": "markdown",
   "metadata": {},
   "source": [
    "### (4) What is the mean anomaly of sea surface temperature in September 1995?"
   ]
  },
  {
   "cell_type": "code",
   "execution_count": null,
   "metadata": {},
   "outputs": [],
   "source": []
  },
  {
   "cell_type": "markdown",
   "metadata": {},
   "source": [
    "### (5) What is the average land surface temperature change between May 1984  and October 2000?"
   ]
  },
  {
   "cell_type": "code",
   "execution_count": null,
   "metadata": {},
   "outputs": [],
   "source": []
  },
  {
   "cell_type": "markdown",
   "metadata": {},
   "source": [
    "### (6) Plot the monthly sea surface temperature anomaly between 1965-1980 and compare it with the merged data (sea+land)."
   ]
  },
  {
   "cell_type": "code",
   "execution_count": null,
   "metadata": {},
   "outputs": [],
   "source": []
  },
  {
   "cell_type": "markdown",
   "metadata": {},
   "source": [
    "### (7) What is the differentce between the average anomaly of land surface temperature and the average of sea surface temperature in 2000s?"
   ]
  },
  {
   "cell_type": "code",
   "execution_count": null,
   "metadata": {},
   "outputs": [],
   "source": []
  },
  {
   "cell_type": "markdown",
   "metadata": {},
   "source": [
    "### (8)  As an additional fun. Let's generate some synthetic data. \n",
    "\n",
    "To generate a Pandas data frame with n rows and m columns made of ramdom float values between 0 and 1, you can use the following piece of code:\n",
    "\n",
    "`df = pd.DataFrame(np.random.randn(n, m))`\n",
    "\n",
    "\n",
    "\n",
    "`df = pd.DataFrame(np.random.randint(0,100,size=(n, m)), columns=list('A1,B1,C1,D1'))`\n",
    "\n",
    "\n",
    "`df = pd.DataFrame({'A': [11, 21, 31],\n",
    "                   'B': [12, 22, 32],\n",
    "                   'C': [13, 23, 33]},\n",
    "                  index=['ONE', 'TWO', 'THREE'])`"
   ]
  },
  {
   "cell_type": "markdown",
   "metadata": {},
   "source": [
    "### (a) Now, it's your turn. Generate a Pandas dataframe with 100 rows and 3 columns made of random values between 0 and 50, naming the columns as 'BLUE', 'RED','GREEN' and display the first 8 rows of the data frame."
   ]
  },
  {
   "cell_type": "code",
   "execution_count": null,
   "metadata": {},
   "outputs": [],
   "source": []
  },
  {
   "cell_type": "code",
   "execution_count": null,
   "metadata": {},
   "outputs": [],
   "source": []
  },
  {
   "cell_type": "markdown",
   "metadata": {},
   "source": [
    "### (b)  Subtract the values in the 1st column from the ones in the 3rd column, and store them in a new column called 'YELLOW', adding it as a final column in the dataset and display the final version of your data frame."
   ]
  },
  {
   "cell_type": "code",
   "execution_count": null,
   "metadata": {},
   "outputs": [],
   "source": []
  },
  {
   "cell_type": "code",
   "execution_count": null,
   "metadata": {},
   "outputs": [],
   "source": []
  },
  {
   "cell_type": "code",
   "execution_count": null,
   "metadata": {},
   "outputs": [],
   "source": []
  },
  {
   "cell_type": "code",
   "execution_count": null,
   "metadata": {},
   "outputs": [],
   "source": []
  }
 ],
 "metadata": {
  "kernelspec": {
   "display_name": "Python 3",
   "language": "python",
   "name": "python3"
  },
  "language_info": {
   "codemirror_mode": {
    "name": "ipython",
    "version": 3
   },
   "file_extension": ".py",
   "mimetype": "text/x-python",
   "name": "python",
   "nbconvert_exporter": "python",
   "pygments_lexer": "ipython3",
   "version": "3.8.3"
  }
 },
 "nbformat": 4,
 "nbformat_minor": 4
}
